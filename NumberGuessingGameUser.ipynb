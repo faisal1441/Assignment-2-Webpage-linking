{
  "nbformat": 4,
  "nbformat_minor": 0,
  "metadata": {
    "colab": {
      "provenance": [],
      "authorship_tag": "ABX9TyMP5U4bIc35wgcP2Rok9kwm",
      "include_colab_link": true
    },
    "kernelspec": {
      "name": "python3",
      "display_name": "Python 3"
    },
    "language_info": {
      "name": "python"
    }
  },
  "cells": [
    {
      "cell_type": "markdown",
      "metadata": {
        "id": "view-in-github",
        "colab_type": "text"
      },
      "source": [
        "<a href=\"https://colab.research.google.com/github/faisal1441/Assignment-2-Webpage-linking/blob/main/NumberGuessingGameUser.ipynb\" target=\"_parent\"><img src=\"https://colab.research.google.com/assets/colab-badge.svg\" alt=\"Open In Colab\"/></a>"
      ]
    },
    {
      "cell_type": "code",
      "source": [
        "# Guess the Number Game Python Project (user), provide Google Colab URL?\n",
        "\n",
        "import random\n",
        "\n",
        "def guess_the_number():\n",
        "    \"\"\"Plays a number guessing game with the user.\"\"\"\n",
        "\n",
        "    number = random.randint(1, 100)\n",
        "    guesses_left = 7\n",
        "\n",
        "    print(\"Welcome to the Number Guessing Game!\")\n",
        "    print(\"I'm thinking of a number between 1 and 100.\")\n",
        "\n",
        "    while guesses_left > 0:\n",
        "        try:\n",
        "            guess = int(input(f\"You have {guesses_left} guesses left. Take a guess: \"))\n",
        "        except ValueError:\n",
        "            print(\"Invalid input. Please enter a number.\")\n",
        "            continue\n",
        "\n",
        "        if guess < number:\n",
        "            print(\"Too low!\")\n",
        "        elif guess > number:\n",
        "            print(\"Too high!\")\n",
        "        else:\n",
        "            print(f\"Congratulations! You guessed the number in {7 - guesses_left} tries!\")\n",
        "            return\n",
        "\n",
        "        guesses_left -= 1\n",
        "\n",
        "    print(f\"You ran out of guesses. The number was {number}.\")\n",
        "\n",
        "if __name__ == \"__main__\":\n",
        "    guess_the_number()\n"
      ],
      "metadata": {
        "colab": {
          "base_uri": "https://localhost:8080/"
        },
        "id": "g6QEWr0STPhv",
        "outputId": "39eae7c3-4481-4e0b-affc-05c120b75803"
      },
      "execution_count": null,
      "outputs": [
        {
          "output_type": "stream",
          "name": "stdout",
          "text": [
            "Welcome to the Number Guessing Game!\n",
            "I'm thinking of a number between 1 and 100.\n",
            "You have 7 guesses left. Take a guess: 76\n",
            "Too high!\n",
            "You have 6 guesses left. Take a guess: 32\n",
            "Too high!\n"
          ]
        }
      ]
    }
  ]
}